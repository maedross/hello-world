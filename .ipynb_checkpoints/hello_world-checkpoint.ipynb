{
 "cells": [
  {
   "cell_type": "code",
   "execution_count": 8,
   "metadata": {},
   "outputs": [
    {
     "name": "stdout",
     "output_type": "stream",
     "text": [
      "Welcome to my greeting program\n"
     ]
    },
    {
     "name": "stdin",
     "output_type": "stream",
     "text": [
      "What is your name? Jeff\n",
      "What year were you born? 2000\n"
     ]
    },
    {
     "name": "stdout",
     "output_type": "stream",
     "text": [
      "Hello Jeff you're 21 years old this year!\n"
     ]
    }
   ],
   "source": [
    "from datetime import date\n",
    "print(\"Welcome to my greeting program!\")\n",
    "\n",
    "# Get user's name\n",
    "name = input(prompt=\"What is your name?\") \n",
    "\n",
    "# Get user's birth year (account for them giving you a float)\n",
    "birth_year = float(input(prompt=\"What year were you born?\")) \n",
    "\n",
    "if (birth_year < 0): # Can't accept negative years\n",
    "    print(\"You're a liar!\")\n",
    "else:\n",
    "    # Get today's date\n",
    "    date_today = date.today() \n",
    "    # Subtract the user's birth year from current year\n",
    "    age = date_today.year-int(birth_year) \n",
    "    # Print the user's name and age\n",
    "    print(\"Hello\", name, \"\\b, you're\", age, \"years old this year!\") "
   ]
  },
  {
   "cell_type": "code",
   "execution_count": null,
   "metadata": {},
   "outputs": [],
   "source": []
  }
 ],
 "metadata": {
  "kernelspec": {
   "display_name": "Python 3",
   "language": "python",
   "name": "python3"
  },
  "language_info": {
   "codemirror_mode": {
    "name": "ipython",
    "version": 3
   },
   "file_extension": ".py",
   "mimetype": "text/x-python",
   "name": "python",
   "nbconvert_exporter": "python",
   "pygments_lexer": "ipython3",
   "version": "3.8.3"
  }
 },
 "nbformat": 4,
 "nbformat_minor": 4
}
