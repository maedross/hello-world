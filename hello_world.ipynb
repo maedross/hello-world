{
 "cells": [
  {
   "cell_type": "code",
   "execution_count": 8,
   "metadata": {},
   "outputs": [
    {
     "name": "stdout",
     "output_type": "stream",
     "text": [
      "Welcome to my greeting program\n"
     ]
    },
    {
     "name": "stdin",
     "output_type": "stream",
     "text": [
      "What is your name? Jeff\n",
      "What year were you born? 2000\n"
     ]
    },
    {
     "name": "stdout",
     "output_type": "stream",
     "text": [
      "Hello Jeff you're 21 years old this year!\n"
     ]
    }
   ],
   "source": [
    "from datetime import date\n",
    "print(\"Welcome to my greeting program\")\n",
    "name = input(prompt=\"What is your name?\") # Get user's name\n",
    "birth_year = float(input(prompt=\"What year were you born?\")) # Get user's birth year (account for them giving you a float)\n",
    "if (birth_year < 0): # Can't accept negative years\n",
    "    print(\"You're a liar!\")\n",
    "else:\n",
    "    date_today = date.today() # Get today's date\n",
    "    age = date_today.year-int(birth_year) # Subtract the year attribute (current year) from user's birth year\n",
    "    print(\"Hello\", name, \"you're\", age, \"years old this year!\") # Print the user's name and age"
   ]
  },
  {
   "cell_type": "code",
   "execution_count": null,
   "metadata": {},
   "outputs": [],
   "source": []
  }
 ],
 "metadata": {
  "kernelspec": {
   "display_name": "Python 3",
   "language": "python",
   "name": "python3"
  },
  "language_info": {
   "codemirror_mode": {
    "name": "ipython",
    "version": 3
   },
   "file_extension": ".py",
   "mimetype": "text/x-python",
   "name": "python",
   "nbconvert_exporter": "python",
   "pygments_lexer": "ipython3",
   "version": "3.9.2"
  }
 },
 "nbformat": 4,
 "nbformat_minor": 4
}
